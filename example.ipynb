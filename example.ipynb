{
  "nbformat": 4,
  "nbformat_minor": 0,
  "metadata": {
    "colab": {
      "provenance": [],
      "gpuType": "T4"
    },
    "kernelspec": {
      "name": "python3",
      "display_name": "Python 3"
    },
    "language_info": {
      "name": "python"
    },
    "accelerator": "GPU"
  },
  "cells": [
    {
      "cell_type": "code",
      "execution_count": 2,
      "metadata": {
        "id": "9ZV35Vf0CU2C"
      },
      "outputs": [],
      "source": []
    },
    {
      "cell_type": "code",
      "source": [
        "from google.colab import drive\n",
        "drive.mount('/content/drive')"
      ],
      "metadata": {
        "colab": {
          "base_uri": "https://localhost:8080/"
        },
        "id": "4VIIhkfvJW5F",
        "outputId": "c7d1a012-fda6-4076-881d-a700f673314b"
      },
      "execution_count": 3,
      "outputs": [
        {
          "output_type": "stream",
          "name": "stdout",
          "text": [
            "Mounted at /content/drive\n"
          ]
        }
      ]
    },
    {
      "cell_type": "code",
      "source": [
        "# import scipy.io\n",
        "\n",
        "# # Path to your .mat file\n",
        "# file_path = '/content/drive/MyDrive/github/building_data.mat'\n",
        "\n",
        "# # Load the .mat file\n",
        "# mat_data = scipy.io.loadmat(file_path)\n",
        "\n",
        "# # Inspect the keys of the loaded data\n",
        "# print(mat_data.keys())\n",
        "\n",
        "# buildingdata = mat_data['buildingdata']"
      ],
      "metadata": {
        "id": "956ZkF9QC678"
      },
      "execution_count": 4,
      "outputs": []
    },
    {
      "cell_type": "code",
      "source": [
        "# Check the type and structure of buildingdata\n",
        "# print(type(buildingdata))\n",
        "# print(buildingdata.dtype)"
      ],
      "metadata": {
        "id": "LHGHbu1dKTUs"
      },
      "execution_count": 5,
      "outputs": []
    },
    {
      "cell_type": "code",
      "source": [
        "# building_names = [f'building{i}' for i in range(1, 10)]  # Adjust based on your actual data\n",
        "\n",
        "# for building_name in building_names:\n",
        "#     building_data = buildingdata[building_name]\n",
        "#     print(f\"Data for {building_name}:\")\n",
        "#     print(building_data)\n"
      ],
      "metadata": {
        "id": "JgQhzsBNKU0z"
      },
      "execution_count": 6,
      "outputs": []
    },
    {
      "cell_type": "code",
      "source": [
        "!git clone https://github.com/preeti-me/MVGSL.git"
      ],
      "metadata": {
        "colab": {
          "base_uri": "https://localhost:8080/"
        },
        "id": "7U9m7c1lLhZz",
        "outputId": "3ec7f4a2-7604-432f-8c75-18e2531aec40"
      },
      "execution_count": 7,
      "outputs": [
        {
          "output_type": "stream",
          "name": "stdout",
          "text": [
            "Cloning into 'MVGSL'...\n",
            "remote: Enumerating objects: 336, done.\u001b[K\n",
            "remote: Counting objects: 100% (46/46), done.\u001b[K\n",
            "remote: Compressing objects: 100% (44/44), done.\u001b[K\n",
            "remote: Total 336 (delta 21), reused 0 (delta 0), pack-reused 290 (from 1)\u001b[K\n",
            "Receiving objects: 100% (336/336), 5.18 MiB | 25.49 MiB/s, done.\n",
            "Resolving deltas: 100% (78/78), done.\n"
          ]
        }
      ]
    },
    {
      "cell_type": "code",
      "source": [
        "%cd /content/MVGSL"
      ],
      "metadata": {
        "colab": {
          "base_uri": "https://localhost:8080/"
        },
        "id": "_34CAWgzLosj",
        "outputId": "783301f9-83ab-4398-ded0-b6cd67cf6b05"
      },
      "execution_count": 8,
      "outputs": [
        {
          "output_type": "stream",
          "name": "stdout",
          "text": [
            "/content/MVGSL\n"
          ]
        }
      ]
    },
    {
      "cell_type": "code",
      "source": [
        "!pip install numpy scipy pandas networkx matplotlib"
      ],
      "metadata": {
        "colab": {
          "base_uri": "https://localhost:8080/"
        },
        "id": "17Sp-ly4LQm6",
        "outputId": "188efc81-ce27-4d1a-8cef-1ac90e677cce"
      },
      "execution_count": 9,
      "outputs": [
        {
          "output_type": "stream",
          "name": "stdout",
          "text": [
            "Requirement already satisfied: numpy in /usr/local/lib/python3.10/dist-packages (1.26.4)\n",
            "Requirement already satisfied: scipy in /usr/local/lib/python3.10/dist-packages (1.13.1)\n",
            "Requirement already satisfied: pandas in /usr/local/lib/python3.10/dist-packages (2.1.4)\n",
            "Requirement already satisfied: networkx in /usr/local/lib/python3.10/dist-packages (3.3)\n",
            "Requirement already satisfied: matplotlib in /usr/local/lib/python3.10/dist-packages (3.7.1)\n",
            "Requirement already satisfied: python-dateutil>=2.8.2 in /usr/local/lib/python3.10/dist-packages (from pandas) (2.8.2)\n",
            "Requirement already satisfied: pytz>=2020.1 in /usr/local/lib/python3.10/dist-packages (from pandas) (2024.1)\n",
            "Requirement already satisfied: tzdata>=2022.1 in /usr/local/lib/python3.10/dist-packages (from pandas) (2024.1)\n",
            "Requirement already satisfied: contourpy>=1.0.1 in /usr/local/lib/python3.10/dist-packages (from matplotlib) (1.2.1)\n",
            "Requirement already satisfied: cycler>=0.10 in /usr/local/lib/python3.10/dist-packages (from matplotlib) (0.12.1)\n",
            "Requirement already satisfied: fonttools>=4.22.0 in /usr/local/lib/python3.10/dist-packages (from matplotlib) (4.53.1)\n",
            "Requirement already satisfied: kiwisolver>=1.0.1 in /usr/local/lib/python3.10/dist-packages (from matplotlib) (1.4.5)\n",
            "Requirement already satisfied: packaging>=20.0 in /usr/local/lib/python3.10/dist-packages (from matplotlib) (24.1)\n",
            "Requirement already satisfied: pillow>=6.2.0 in /usr/local/lib/python3.10/dist-packages (from matplotlib) (9.4.0)\n",
            "Requirement already satisfied: pyparsing>=2.3.1 in /usr/local/lib/python3.10/dist-packages (from matplotlib) (3.1.2)\n",
            "Requirement already satisfied: six>=1.5 in /usr/local/lib/python3.10/dist-packages (from python-dateutil>=2.8.2->pandas) (1.16.0)\n"
          ]
        }
      ]
    },
    {
      "cell_type": "code",
      "source": [
        "def tic():\n",
        "    #Homemade version of matlab tic and toc functions\n",
        "    import time\n",
        "    global startTime_for_tictoc\n",
        "    startTime_for_tictoc = time.time()\n",
        "\n",
        "def toc():\n",
        "    import time\n",
        "    if 'startTime_for_tictoc' in globals():\n",
        "        print( \"Elapsed time is \" + str(time.time() - startTime_for_tictoc) + \" seconds.\")\n",
        "    else:\n",
        "        print( \"Toc: start time not set\")"
      ],
      "metadata": {
        "id": "PIe4_lz1gv8k"
      },
      "execution_count": 10,
      "outputs": []
    },
    {
      "cell_type": "code",
      "source": [
        "!pip install --upgrade scipy"
      ],
      "metadata": {
        "colab": {
          "base_uri": "https://localhost:8080/"
        },
        "id": "gYVTZ8ppNdcS",
        "outputId": "5a9fd0af-d899-4a5a-ff5d-aa5c001d0313"
      },
      "execution_count": 11,
      "outputs": [
        {
          "output_type": "stream",
          "name": "stdout",
          "text": [
            "Requirement already satisfied: scipy in /usr/local/lib/python3.10/dist-packages (1.13.1)\n",
            "Collecting scipy\n",
            "  Downloading scipy-1.14.0-cp310-cp310-manylinux_2_17_x86_64.manylinux2014_x86_64.whl.metadata (60 kB)\n",
            "\u001b[2K     \u001b[90m━━━━━━━━━━━━━━━━━━━━━━━━━━━━━━━━━━━━━━━━\u001b[0m \u001b[32m60.8/60.8 kB\u001b[0m \u001b[31m3.5 MB/s\u001b[0m eta \u001b[36m0:00:00\u001b[0m\n",
            "\u001b[?25hRequirement already satisfied: numpy<2.3,>=1.23.5 in /usr/local/lib/python3.10/dist-packages (from scipy) (1.26.4)\n",
            "Downloading scipy-1.14.0-cp310-cp310-manylinux_2_17_x86_64.manylinux2014_x86_64.whl (41.1 MB)\n",
            "\u001b[2K   \u001b[90m━━━━━━━━━━━━━━━━━━━━━━━━━━━━━━━━━━━━━━━━\u001b[0m \u001b[32m41.1/41.1 MB\u001b[0m \u001b[31m22.8 MB/s\u001b[0m eta \u001b[36m0:00:00\u001b[0m\n",
            "\u001b[?25hInstalling collected packages: scipy\n",
            "  Attempting uninstall: scipy\n",
            "    Found existing installation: scipy 1.13.1\n",
            "    Uninstalling scipy-1.13.1:\n",
            "      Successfully uninstalled scipy-1.13.1\n",
            "\u001b[31mERROR: pip's dependency resolver does not currently take into account all the packages that are installed. This behaviour is the source of the following dependency conflicts.\n",
            "xgboost 2.1.1 requires nvidia-nccl-cu12; platform_system == \"Linux\" and platform_machine != \"aarch64\", which is not installed.\n",
            "gensim 4.3.3 requires scipy<1.14.0,>=1.7.0, but you have scipy 1.14.0 which is incompatible.\u001b[0m\u001b[31m\n",
            "\u001b[0mSuccessfully installed scipy-1.14.0\n"
          ]
        }
      ]
    },
    {
      "cell_type": "code",
      "source": [
        "!pip install --upgrade scipy scikit-learn"
      ],
      "metadata": {
        "colab": {
          "base_uri": "https://localhost:8080/"
        },
        "id": "IB8Q3niEe0U9",
        "outputId": "ccaaaabf-7fbf-4422-ae0f-7aa451395268"
      },
      "execution_count": 12,
      "outputs": [
        {
          "output_type": "stream",
          "name": "stdout",
          "text": [
            "Requirement already satisfied: scipy in /usr/local/lib/python3.10/dist-packages (1.14.0)\n",
            "Requirement already satisfied: scikit-learn in /usr/local/lib/python3.10/dist-packages (1.3.2)\n",
            "Collecting scikit-learn\n",
            "  Downloading scikit_learn-1.5.1-cp310-cp310-manylinux_2_17_x86_64.manylinux2014_x86_64.whl.metadata (12 kB)\n",
            "Requirement already satisfied: numpy<2.3,>=1.23.5 in /usr/local/lib/python3.10/dist-packages (from scipy) (1.26.4)\n",
            "Requirement already satisfied: joblib>=1.2.0 in /usr/local/lib/python3.10/dist-packages (from scikit-learn) (1.4.2)\n",
            "Requirement already satisfied: threadpoolctl>=3.1.0 in /usr/local/lib/python3.10/dist-packages (from scikit-learn) (3.5.0)\n",
            "Downloading scikit_learn-1.5.1-cp310-cp310-manylinux_2_17_x86_64.manylinux2014_x86_64.whl (13.4 MB)\n",
            "\u001b[2K   \u001b[90m━━━━━━━━━━━━━━━━━━━━━━━━━━━━━━━━━━━━━━━━\u001b[0m \u001b[32m13.4/13.4 MB\u001b[0m \u001b[31m44.4 MB/s\u001b[0m eta \u001b[36m0:00:00\u001b[0m\n",
            "\u001b[?25hInstalling collected packages: scikit-learn\n",
            "  Attempting uninstall: scikit-learn\n",
            "    Found existing installation: scikit-learn 1.3.2\n",
            "    Uninstalling scikit-learn-1.3.2:\n",
            "      Successfully uninstalled scikit-learn-1.3.2\n",
            "Successfully installed scikit-learn-1.5.1\n"
          ]
        }
      ]
    },
    {
      "cell_type": "code",
      "source": [
        "import numpy as np\n",
        "\n",
        "def cosine_similarity(vec1, vec2):\n",
        "    vec1 = np.array(vec1)\n",
        "    vec2 = np.array(vec2)\n",
        "    dot_product = np.dot(vec1, vec2)\n",
        "    norm_vec1 = np.linalg.norm(vec1)\n",
        "    norm_vec2 = np.linalg.norm(vec2)\n",
        "    return dot_product / (norm_vec1 * norm_vec2)\n"
      ],
      "metadata": {
        "id": "F915gUOkMWgL"
      },
      "execution_count": 13,
      "outputs": []
    },
    {
      "cell_type": "markdown",
      "source": [
        "# Example of Jaccard Similarity"
      ],
      "metadata": {
        "id": "GIz_WD1jfqUt"
      }
    },
    {
      "cell_type": "code",
      "source": [
        "import numpy as np\n",
        "import pandas as pd\n",
        "import networkx as nx\n",
        "import scipy.io\n",
        "\n",
        "# File paths\n",
        "embeddings_path = '/content/MVGSL/node2vec-master/emb/'\n",
        "gt_path = '/content/MVGSL/node2vec-master/node2vec_csv/csv/gt/'\n",
        "query_path = '/content/MVGSL/node2vec-master/node2vec_csv/csv/query/'\n",
        "\n",
        "# Load .mat file\n",
        "file_path = '/content/drive/MyDrive/github/building_data.mat'\n",
        "\n",
        "# Load the .mat file\n",
        "mat_data = scipy.io.loadmat(file_path)\n",
        "\n",
        "buildingdata = mat_data['buildingdata']\n",
        "# List all keys in buildingdata\n",
        "print(\"Keys in buildingdata:\", buildingdata.dtype.names)\n",
        "\n",
        "# Parameters\n",
        "building_number = 10\n",
        "rib = 0\n",
        "view = 0\n",
        "field_name = f'building{building_number}'\n",
        "\n",
        "# Extract data\n",
        "building_info = buildingdata[field_name][0, 0]\n",
        "# Access the 'rooms' field from the building info\n",
        "rooms = building_info['rooms'][0]\n",
        "\n",
        "for room in rooms:\n",
        "    room_data = room[0]  # Access the first element if room is a structured array\n",
        "\n",
        "    # Extract the 'name' field or any relevant field\n",
        "    if 'name' in room_data.dtype.names:\n",
        "        label = room_data['name'][0]\n",
        "        print(\"Room name:\", label)\n",
        "\n",
        "\n",
        "# Access the specific room using the index rib\n",
        "room_data = rooms[rib][0]\n",
        "\n",
        "# Extract 'salientobjects' from the room data\n",
        "salientobjects = room_data['salientobjects'][0]\n",
        "# Print the structure and size of salientobjects\n",
        "#print(f\"Salientobjects array shape: {salientobjects.shape}\")\n",
        "#print(f\"Salientobjects contents: {salientobjects}\")\n",
        "\n",
        "view_data = salientobjects[view][0]\n",
        "querydata = view_data['labels'][0]\n",
        "print(querydata)\n",
        "\n",
        "labels = [item[0] for item in querydata]\n",
        "#print(labels)\n",
        "\n",
        "# # Print the labels\n",
        "print(f\"Labels for view {view}:\")\n",
        "for i, label in enumerate(labels):\n",
        "    print(f\"Label {i}: {label}\")\n",
        "\n",
        "# print(\"Labels for view:\")\n",
        "# for i, label in enumerate(querydata):\n",
        "#     print(f\"Label {i}: {label[0]}\")\n",
        "\n",
        "########\n",
        "\n",
        "import numpy as np\n",
        "\n",
        "# Convert numpy arrays to lists or directly to strings\n",
        "labels = [label.tolist()[0] if isinstance(label, np.ndarray) else label for label in labels]\n",
        "print(labels)\n",
        "\n",
        "# Finding unique labels\n",
        "unique_labels = set(labels)\n",
        "print(f\"Unique labels: {unique_labels}\")\n",
        "\n",
        "\n",
        "querynodes = unique_labels\n",
        "\n",
        "# Graph construction\n",
        "qmatrix = rooms[rib]['newadjacencyMatrix'][view]\n",
        "#print(qmatrix)  ##queryadj[0]: Contains two matrices. The first is a 4x4 matrix, and the second is a 1x1 matrix.\n",
        "                  #queryadj[1]: Contains two matrices. The first is a 6x6 matrix, and the second is a 6x6 matrix.\n",
        "                  #queryadj[2]: Contains one matrix, which is a 3x3 matrix.\n",
        "\n",
        "queryadj = qmatrix[view][0]\n",
        "queryadj = queryadj[0]\n",
        "print(queryadj)\n",
        "\n",
        "# Check the shape of the extracted matrix\n",
        "print(\"Shape of extracted matrix:\", queryadj.shape)\n",
        "\n",
        "querygraph = nx.from_numpy_array(queryadj)\n",
        "#print(\"Nodes:\", querygraph.nodes())\n",
        "print(\"Edges:\", querygraph.edges())\n",
        "\n",
        "mapping = {i: label for i, label in enumerate(querynodes)}\n",
        "\n",
        "# Relabel nodes in the graph\n",
        "querygraph = nx.relabel_nodes(querygraph, mapping)\n",
        "\n",
        "\n",
        "# # Visualize the graph (optional)\n",
        "import matplotlib.pyplot as plt\n",
        "\n",
        "pos = nx.spring_layout(querygraph)  # Compute node positions\n",
        "nx.draw(querygraph, pos, with_labels=True, node_size=500, node_color='lightblue', font_size=16, font_weight='bold')\n",
        "\n",
        "plt.title('Graph Visualization')\n",
        "plt.show()\n",
        "\n",
        "###############################################################################\n",
        "\n",
        "#tic()\n",
        "\n",
        "# Compute Jaccard Similarity\n",
        "jaccard_similarity = []\n",
        "\n",
        "all_labels = labels\n",
        "\n",
        "\n",
        "intersection = len(set(querynodes).intersection(set(all_labels)))\n",
        "union = len(set(querynodes).union(set(all_labels)))\n",
        "jaccard_similarity.append(intersection / union)\n",
        "\n",
        "# Find top graphs\n",
        "topN = len(jaccard_similarity)\n",
        "threshold = 6 * max(jaccard_similarity) / 10\n",
        "top_indices = [i for i, val in enumerate(jaccard_similarity) if val > threshold]\n",
        "\n",
        "# Sort indices based on their Jaccard similarity values\n",
        "top_graphs_indices = sorted(top_indices, key=lambda i: jaccard_similarity[i], reverse=True)\n",
        "#toc()\n",
        "# Print results\n",
        "print(\"Top Graphs Indices:\", top_graphs_indices)\n",
        "print(\"Jaccard Similarity:\", jaccard_similarity)"
      ],
      "metadata": {
        "colab": {
          "base_uri": "https://localhost:8080/",
          "height": 869
        },
        "id": "pAxl5L5nLRYT",
        "outputId": "445c3491-ac26-4cae-ce02-8c2b6fa47147"
      },
      "execution_count": 14,
      "outputs": [
        {
          "output_type": "stream",
          "name": "stdout",
          "text": [
            "Keys in buildingdata: ('building1', 'building2', 'building3', 'building4', 'building5', 'building6', 'building7', 'building8', 'building9', 'building10')\n",
            "Room name: ['foyer']\n",
            "[array(['grandfatherclock'], dtype='<U16') array(['picture'], dtype='<U7')\n",
            " array(['chair'], dtype='<U5') array(['carpet'], dtype='<U6')]\n",
            "Labels for view 0:\n",
            "Label 0: grandfatherclock\n",
            "Label 1: picture\n",
            "Label 2: chair\n",
            "Label 3: carpet\n",
            "['grandfatherclock', 'picture', 'chair', 'carpet']\n",
            "Unique labels: {'chair', 'grandfatherclock', 'carpet', 'picture'}\n",
            "[[0 0 0 1]\n",
            " [0 1 0 0]\n",
            " [0 0 1 1]\n",
            " [1 0 1 1]]\n",
            "Shape of extracted matrix: (4, 4)\n",
            "Edges: [(0, 3), (1, 1), (2, 2), (2, 3), (3, 3)]\n"
          ]
        },
        {
          "output_type": "display_data",
          "data": {
            "text/plain": [
              "<Figure size 640x480 with 1 Axes>"
            ],
            "image/png": "[encoded data removed]"
          },
          "metadata": {}
        },
        {
          "output_type": "stream",
          "name": "stdout",
          "text": [
            "Top Graphs Indices: [0]\n",
            "Jaccard Similarity: [1.0]\n"
          ]
        }
      ]
    },
    {
      "cell_type": "markdown",
      "source": [
        "# Example of Node Alignment and Similarity Calculation"
      ],
      "metadata": {
        "id": "U1CBXXy4fenE"
      }
    },
    {
      "cell_type": "code",
      "source": [
        "\n",
        "# Example of reading embeddings\n",
        "rib = 0\n",
        "view = 0\n",
        "rib=rib +1\n",
        "view=view+1\n",
        "gt_file = f'{gt_path}/b{building_number}r{rib}.edge_list_embeddings.csv'\n",
        "gt_table = pd.read_csv(gt_file)\n",
        "\n",
        "query_file = f'{query_path}/b{building_number}r{rib}view{view}.edge_list_embeddings.csv'\n",
        "query_table = pd.read_csv(query_file)\n",
        "\n",
        "# Extract node and embedding information\n",
        "gt_nodes = gt_table['Node'].tolist()\n",
        "gt_embeddings = gt_table.iloc[:, 1:].values\n",
        "\n",
        "query_nodes = query_table['Node'].tolist()\n",
        "query_embeddings = query_table.iloc[:, 1:].values\n",
        "\n",
        "#######################\n",
        "\n",
        "\n",
        "# Sort gt_table and query_table based on their respective node lists\n",
        "gt_sorted_idx = np.argsort(gt_nodes)\n",
        "gt_table_sorted = gt_table.iloc[gt_sorted_idx]\n",
        "gt_embeddings_sorted = gt_table_sorted.iloc[:, 1:].values  # Convert to numpy array\n",
        "\n",
        "query_sorted_idx = np.argsort(query_nodes)\n",
        "query_table_sorted = query_table.iloc[query_sorted_idx]\n",
        "query_embeddings_sorted = query_table_sorted.iloc[:, 1:].values  # Convert to numpy array\n",
        "\n",
        "# Initialize similarity matrices\n",
        "similarity = np.zeros((len(query_nodes), len(gt_nodes)))\n",
        "cosSimilarities = np.zeros((len(query_nodes), len(gt_nodes)))\n",
        "\n",
        "# Compute cosine similarities\n",
        "for gi in range(len(query_nodes)):\n",
        "    for gj in range(len(gt_nodes)):\n",
        "        if query_nodes[gi] == gt_nodes[gj]:\n",
        "            que = query_embeddings_sorted[gi, :]\n",
        "            gte = gt_embeddings_sorted[gj, :]\n",
        "            cosSimilarities[gi, gj] = 1 - cosine_similarity(que, gte)  # 1 - cosine distance gives cosine similarity\n",
        "\n",
        "    # Find the index of the maximum cosine similarity\n",
        "    idx = np.argmax(cosSimilarities[gi, :])\n",
        "    similarity[gi, idx] = 1\n",
        "\n",
        "    # Create node_mapping\n",
        "    node_mapping = np.zeros((len(query_nodes), 2), dtype=int)\n",
        "    node_mapping[gi, 0] = gi\n",
        "    node_mapping[gi, 1] = idx\n",
        "toc()\n",
        "# Print node_mapping\n",
        "print(\"Node Mapping (Query Index -> GT Index):\")\n",
        "for i in range(node_mapping.shape[0]):\n",
        "    print(f\"Query Node Index {node_mapping[i, 0]} -> GT Node Index {node_mapping[i, 1]}\")\n"
      ],
      "metadata": {
        "colab": {
          "base_uri": "https://localhost:8080/"
        },
        "id": "FXysfj0mffO0",
        "outputId": "86fb8c17-1b4f-429f-d780-2876687e1d62"
      },
      "execution_count": 15,
      "outputs": [
        {
          "output_type": "stream",
          "name": "stdout",
          "text": [
            "Toc: start time not set\n",
            "Node Mapping (Query Index -> GT Index):\n",
            "Query Node Index 0 -> GT Node Index 0\n",
            "Query Node Index 0 -> GT Node Index 0\n",
            "Query Node Index 0 -> GT Node Index 0\n",
            "Query Node Index 3 -> GT Node Index 0\n"
          ]
        }
      ]
    },
    {
      "cell_type": "code",
      "source": [
        "import scipy.io\n",
        "\n",
        "# Load the .mat file\n",
        "file_path = '/content/drive/MyDrive/github/building_data.mat'\n",
        "mat_data = scipy.io.loadmat(file_path)\n",
        "\n",
        "buildingdata = mat_data['buildingdata']\n",
        "\n",
        "# Parameters\n",
        "building_number = 10\n",
        "field_name = f'building{building_number}'\n",
        "\n",
        "# Extract data\n",
        "building_info = buildingdata[field_name][0, 0]\n",
        "rooms = building_info['rooms'][0]\n",
        "\n",
        "# Ensure rooms is a numpy array\n",
        "if isinstance(rooms, np.ndarray):\n",
        "    # Iterate over each room and print its 'name'\n",
        "    for i, room in enumerate(rooms):\n",
        "        # Access the 'name' field of the room struct\n",
        "        room_name = room['name'][0]\n",
        "        print(f\"Room {i} name: {room_name}\")\n"
      ],
      "metadata": {
        "colab": {
          "base_uri": "https://localhost:8080/"
        },
        "id": "kfUPmCU_O_FH",
        "outputId": "452255ec-51bf-47b4-e49d-e020824fa696"
      },
      "execution_count": 16,
      "outputs": [
        {
          "output_type": "stream",
          "name": "stdout",
          "text": [
            "Room 0 name: [array(['foyer'], dtype='<U5') array(['bedroom'], dtype='<U7')\n",
            " array(['kitchen'], dtype='<U7')]\n"
          ]
        }
      ]
    }
  ]
}